{
 "cells": [
  {
   "cell_type": "code",
   "execution_count": 1,
   "metadata": {},
   "outputs": [],
   "source": [
    "import pandas as pd\n",
    "import numpy as np\n",
    "import matplotlib.pyplot as plt\n",
    "from sklearn.linear_model import LinearRegression\n",
    "import inspect\n",
    "import sympy\n",
    "from sympy.utilities.lambdify import lambdify\n",
    "sympy.init_printing()"
   ]
  },
  {
   "cell_type": "markdown",
   "metadata": {},
   "source": [
    "### Загружаємо дані та візуалізуємо їх"
   ]
  },
  {
   "cell_type": "code",
   "execution_count": 2,
   "metadata": {},
   "outputs": [],
   "source": [
    "data = pd.read_csv('v14.csv')"
   ]
  },
  {
   "cell_type": "code",
   "execution_count": 3,
   "metadata": {},
   "outputs": [
    {
     "data": {
      "text/html": [
       "<div>\n",
       "<style>\n",
       "    .dataframe thead tr:only-child th {\n",
       "        text-align: right;\n",
       "    }\n",
       "\n",
       "    .dataframe thead th {\n",
       "        text-align: left;\n",
       "    }\n",
       "\n",
       "    .dataframe tbody tr th {\n",
       "        vertical-align: top;\n",
       "    }\n",
       "</style>\n",
       "<table border=\"1\" class=\"dataframe\">\n",
       "  <thead>\n",
       "    <tr style=\"text-align: right;\">\n",
       "      <th></th>\n",
       "      <th>Price</th>\n",
       "      <th>Demand</th>\n",
       "      <th>Supply</th>\n",
       "    </tr>\n",
       "  </thead>\n",
       "  <tbody>\n",
       "    <tr>\n",
       "      <th>0</th>\n",
       "      <td>7.0</td>\n",
       "      <td>183</td>\n",
       "      <td>5</td>\n",
       "    </tr>\n",
       "    <tr>\n",
       "      <th>1</th>\n",
       "      <td>8.5</td>\n",
       "      <td>160</td>\n",
       "      <td>19</td>\n",
       "    </tr>\n",
       "    <tr>\n",
       "      <th>2</th>\n",
       "      <td>9.3</td>\n",
       "      <td>141</td>\n",
       "      <td>41</td>\n",
       "    </tr>\n",
       "    <tr>\n",
       "      <th>3</th>\n",
       "      <td>10.0</td>\n",
       "      <td>135</td>\n",
       "      <td>55</td>\n",
       "    </tr>\n",
       "    <tr>\n",
       "      <th>4</th>\n",
       "      <td>11.0</td>\n",
       "      <td>121</td>\n",
       "      <td>70</td>\n",
       "    </tr>\n",
       "    <tr>\n",
       "      <th>5</th>\n",
       "      <td>12.3</td>\n",
       "      <td>102</td>\n",
       "      <td>93</td>\n",
       "    </tr>\n",
       "    <tr>\n",
       "      <th>6</th>\n",
       "      <td>13.1</td>\n",
       "      <td>80</td>\n",
       "      <td>123</td>\n",
       "    </tr>\n",
       "    <tr>\n",
       "      <th>7</th>\n",
       "      <td>14.0</td>\n",
       "      <td>58</td>\n",
       "      <td>155</td>\n",
       "    </tr>\n",
       "    <tr>\n",
       "      <th>8</th>\n",
       "      <td>15.8</td>\n",
       "      <td>44</td>\n",
       "      <td>174</td>\n",
       "    </tr>\n",
       "    <tr>\n",
       "      <th>9</th>\n",
       "      <td>16.5</td>\n",
       "      <td>21</td>\n",
       "      <td>199</td>\n",
       "    </tr>\n",
       "    <tr>\n",
       "      <th>10</th>\n",
       "      <td>18.0</td>\n",
       "      <td>10</td>\n",
       "      <td>213</td>\n",
       "    </tr>\n",
       "    <tr>\n",
       "      <th>11</th>\n",
       "      <td>20.0</td>\n",
       "      <td>5</td>\n",
       "      <td>220</td>\n",
       "    </tr>\n",
       "  </tbody>\n",
       "</table>\n",
       "</div>"
      ],
      "text/plain": [
       "    Price  Demand  Supply\n",
       "0     7.0     183       5\n",
       "1     8.5     160      19\n",
       "2     9.3     141      41\n",
       "3    10.0     135      55\n",
       "4    11.0     121      70\n",
       "5    12.3     102      93\n",
       "6    13.1      80     123\n",
       "7    14.0      58     155\n",
       "8    15.8      44     174\n",
       "9    16.5      21     199\n",
       "10   18.0      10     213\n",
       "11   20.0       5     220"
      ]
     },
     "execution_count": 3,
     "metadata": {},
     "output_type": "execute_result"
    }
   ],
   "source": [
    "data"
   ]
  },
  {
   "cell_type": "code",
   "execution_count": 4,
   "metadata": {
    "scrolled": true
   },
   "outputs": [
    {
     "data": {
      "image/png": "[encoded data removed]",
      "text/plain": [
       "<matplotlib.figure.Figure at 0x7f1a6c199518>"
      ]
     },
     "metadata": {},
     "output_type": "display_data"
    }
   ],
   "source": [
    "plt.plot(data['Demand'].values, data['Price'].values, 'o')\n",
    "plt.plot(data['Supply'].values, data['Price'].values, 'o')\n",
    "plt.show()"
   ]
  },
  {
   "cell_type": "code",
   "execution_count": 5,
   "metadata": {},
   "outputs": [],
   "source": [
    "# Необхідні константи\n",
    "p_dens = 200\n",
    "min_pr, max_pr = data.iloc[0]['Price'], data.iloc[-1]['Price']\n",
    "prices = np.linspace(min_pr, max_pr, p_dens)"
   ]
  },
  {
   "cell_type": "markdown",
   "metadata": {},
   "source": [
    "## Знаходження аналітичного вигляду функція попиту та пропозиції\n",
    "Функції попиту та пропозиції будемо знаходити у вигляді: \n",
    "\\begin{align}\n",
    "Q=\\alpha f(P)+\\beta\n",
    "\\end{align}\n",
    "де $f$ задовольняє наступним властивостям.\n",
    "\n",
    "Для функції попиту:\n",
    "\\begin{align}\n",
    "\\frac{\\partial f}{\\partial P} &< 0 \\\\\n",
    "\\frac{\\partial^2 f}{\\partial P^2} &>= 0\n",
    "\\end{align}\n",
    "Для функції пропозиції:\n",
    "\\begin{align}\n",
    "\\frac{\\partial f}{\\partial P} &> 0 \\\\\n",
    "\\frac{\\partial^2 f}{\\partial P^2} &<= 0\n",
    "\\end{align}\n",
    "\n",
    "Знайдемо значення $\\alpha$ та $\\beta$ за допомогою лінійної регресії з квадратичною функцією втрат. \\\\\n",
    "Нехай дано вибірку $Q^*$, $P^*$. Тоді потрібно мінімізувати функціонал:\n",
    "\\begin{align}\n",
    "L(P^*,Q^*)=(\\alpha f(P^*)+\\beta - Q^*)^T(\\alpha f(P^*)+\\beta - Q^*)\n",
    "\\end{align}\n",
    "Тоді параметри набувають вигляду:\n",
    "\\begin{align}\n",
    "(\\alpha, \\beta) &= (X^T X)^{-1} X^T Q^*\\\\\n",
    "X &= \\begin{bmatrix}f(P^*_1) & 1\\\\f(P^*_2) & 1\\\\... & ... \\\\ f(P^*_n) & 1\\end{bmatrix} \\\\\n",
    "\\end{align}\n",
    "$n$ - кількість елементів у вибірці\n",
    "\n",
    "Модель лінійної регресії реалізована в класі sklearn.linear_model.LinearRegression."
   ]
  },
  {
   "cell_type": "markdown",
   "metadata": {},
   "source": [
    "### Вибір функції f\n",
    "Функцію $f$ будемо вибирати перебором. Визначимо множини функцій $f_{d\\_set}$ та $f_{s\\_set}$. Виберемо по одній функції з цих множин які максимізують значення коефіцієнта детермінації."
   ]
  },
  {
   "cell_type": "code",
   "execution_count": 6,
   "metadata": {},
   "outputs": [],
   "source": [
    "# Generate X matrix from P\n",
    "def generate_features(X, f):\n",
    "    X = X.reshape(-1, 1)\n",
    "    return np.concatenate([f(X), np.ones(X.shape)], axis=1)\n",
    "\n",
    "# Find function that fits dataset the best\n",
    "def best_f(X, y, f_set):\n",
    "    curr_max = -1e9\n",
    "    max_ind = 0\n",
    "    for ind, f in enumerate(f_set):\n",
    "        model = LinearRegression()\n",
    "        generated_features = generate_features(X, f)\n",
    "        model.fit(generated_features, y)\n",
    "        curr_score = model.score(generated_features, y)\n",
    "        if curr_score > curr_max:\n",
    "            max_ind = ind\n",
    "            curr_max = curr_score\n",
    "    return f_set[max_ind]"
   ]
  },
  {
   "cell_type": "code",
   "execution_count": 7,
   "metadata": {},
   "outputs": [],
   "source": [
    "# Model of demand/supply dependence from price as Q=a*f(P)+b\n",
    "class QModel:\n",
    "    # Choose function that fits dataset the best from f_set and train model\n",
    "    def __init__(self, P, Q, f_set, is_demand):\n",
    "        # Symbols for printing and differentiation\n",
    "        self._P = sympy.symbols('P')\n",
    "        self._Q = sympy.symbols('Q_' + ('d' if is_demand else 's'))\n",
    "        self._E = sympy.symbols('E_' + ('d' if is_demand else 's'))\n",
    "        \n",
    "        self.f = best_f(P, Q, f_set)\n",
    "        \n",
    "        self._regression = LinearRegression(fit_intercept=False)\n",
    "        self._regression.fit(generate_features(P, self.f), Q)\n",
    "        \n",
    "        # Demand/Supply function\n",
    "        self.Q_f = lambda P: self._regression.coef_[0] * self.f(P) + self._regression.coef_[1]\n",
    "        \n",
    "        # Elasticity function\n",
    "        self._elasticity = sympy.diff(self.Q_f(self._P), self._P) * self._P / self.Q_f(self._P)\n",
    "        # lambdified elasticity function for faster usage\n",
    "        self.elasticity = lambdify(self._P, self._elasticity)\n",
    "        \n",
    "        #Definitions for pretty output\n",
    "        self._pretty_Q_f = round(self._regression.coef_[0], 2) * self.f(self._P) + round(self._regression.coef_[1], 2)\n",
    "        self._pretty_elasticity = sympy.diff(self._pretty_Q_f, self._P) * self._P / self._pretty_Q_f\n",
    "        \n",
    "    def pretty_print(self):\n",
    "        return sympy.Eq(self._Q, self._pretty_Q_f)\n",
    "    \n",
    "    def pretty_print_elasticity(self):\n",
    "        return sympy.Eq(self._E, self._pretty_elasticity)\n",
    "    \n",
    "    def __call__(self, P):\n",
    "        return self.Q_f(np.array(P))\n",
    "        \n",
    "    \n",
    "    def arc_elasticity(self, P): # returns len(values) - 1 numbers\n",
    "        p1, p2 = P[:-1], P[1:]\n",
    "        f1, f2 = self(p1), self(p2)\n",
    "        return (f2 - f1) / (p2 - p1) * (p2 + p1) / (f2 + f1)"
   ]
  },
  {
   "cell_type": "markdown",
   "metadata": {},
   "source": [
    "# Апроксимація попиту"
   ]
  },
  {
   "cell_type": "code",
   "execution_count": 8,
   "metadata": {},
   "outputs": [],
   "source": [
    "f_d_set = [\n",
    "    lambda x: 1 / x,\n",
    "    lambda x: 1 / (x ** (1/2)),\n",
    "    lambda x: 1 / (x ** (1/3)),\n",
    "    lambda x: 1 / (x ** (1/4)),\n",
    "    lambda x: 1 / np.log(x)\n",
    "]"
   ]
  },
  {
   "cell_type": "code",
   "execution_count": 9,
   "metadata": {},
   "outputs": [],
   "source": [
    "Q_d = QModel(data['Price'].values, data['Demand'].values, f_d_set, is_demand=True)"
   ]
  },
  {
   "cell_type": "code",
   "execution_count": 10,
   "metadata": {},
   "outputs": [
    {
     "data": {
      "image/png": "[encoded data removed]",
      "text/latex": [
       "$$Q_{d} = \\frac{1388.52}{P^{0.25}} - 654.2$$"
      ],
      "text/plain": [
       "               -0.25        \n",
       "Q_d = 1388.52⋅P      - 654.2"
      ]
     },
     "execution_count": 10,
     "metadata": {},
     "output_type": "execute_result"
    }
   ],
   "source": [
    "Q_d.pretty_print()"
   ]
  },
  {
   "cell_type": "code",
   "execution_count": 11,
   "metadata": {},
   "outputs": [
    {
     "data": {
      "image/png": "[encoded data removed]",
      "text/plain": [
       "<matplotlib.figure.Figure at 0x7f1a64303a90>"
      ]
     },
     "metadata": {},
     "output_type": "display_data"
    }
   ],
   "source": [
    "plt.plot(Q_d(prices), prices)\n",
    "plt.plot(data['Demand'], data['Price'], 'o')\n",
    "plt.show()"
   ]
  },
  {
   "cell_type": "markdown",
   "metadata": {},
   "source": [
    "# Апроксимація пропозиції"
   ]
  },
  {
   "cell_type": "code",
   "execution_count": 12,
   "metadata": {},
   "outputs": [],
   "source": [
    "f_s_set = [\n",
    "    lambda x: x ** (1/2),\n",
    "    lambda x: x ** (1/3),\n",
    "    lambda x: x ** (1/4),\n",
    "    lambda x: np.log(x)\n",
    "]"
   ]
  },
  {
   "cell_type": "code",
   "execution_count": 13,
   "metadata": {},
   "outputs": [],
   "source": [
    "Q_s = QModel(data['Price'].values, data['Supply'].values, f_s_set, is_demand=False)"
   ]
  },
  {
   "cell_type": "code",
   "execution_count": 14,
   "metadata": {},
   "outputs": [
    {
     "data": {
      "image/png": "[encoded data removed]",
      "text/latex": [
       "$$Q_{s} = 135.57 P^{0.5} - 368.61$$"
      ],
      "text/plain": [
       "             0.5         \n",
       "Qₛ = 135.57⋅P    - 368.61"
      ]
     },
     "execution_count": 14,
     "metadata": {},
     "output_type": "execute_result"
    }
   ],
   "source": [
    "Q_s.pretty_print()"
   ]
  },
  {
   "cell_type": "code",
   "execution_count": 15,
   "metadata": {},
   "outputs": [
    {
     "data": {
      "image/png": "[encoded data removed]",
      "text/plain": [
       "<matplotlib.figure.Figure at 0x7f1a642802e8>"
      ]
     },
     "metadata": {},
     "output_type": "display_data"
    }
   ],
   "source": [
    "plt.plot(Q_s(prices), prices)\n",
    "plt.plot(data['Supply'], data['Price'], 'o')\n",
    "plt.show()"
   ]
  },
  {
   "cell_type": "markdown",
   "metadata": {},
   "source": [
    "# Точка ринкової рівноваги"
   ]
  },
  {
   "cell_type": "code",
   "execution_count": 16,
   "metadata": {},
   "outputs": [],
   "source": [
    "def intersection(f1, f2, values):\n",
    "    ind = np.argmin(np.abs(f1(values) - f2(values)))\n",
    "    return (values[ind], ((f1(values[ind:ind+1]) + f2(values[ind:ind+1])) / 2)[0])"
   ]
  },
  {
   "cell_type": "code",
   "execution_count": 17,
   "metadata": {},
   "outputs": [],
   "source": [
    "balance_point = intersection(Q_d, Q_s, prices)"
   ]
  },
  {
   "cell_type": "code",
   "execution_count": 18,
   "metadata": {},
   "outputs": [
    {
     "data": {
      "image/png": "[encoded data removed]",
      "text/plain": [
       "<matplotlib.figure.Figure at 0x7f1a64170a20>"
      ]
     },
     "metadata": {},
     "output_type": "display_data"
    },
    {
     "name": "stdout",
     "output_type": "stream",
     "text": [
      "Точка ринкової рівноваги. P:12.0, Q:96.0\n"
     ]
    }
   ],
   "source": [
    "plt.plot(Q_d(prices), prices)\n",
    "plt.plot(Q_s(prices), prices)\n",
    "plt.plot(balance_point[1], balance_point[0], 'o')\n",
    "plt.show()\n",
    "print(\"Точка ринкової рівноваги. P:{}, Q:{}\".format(round(balance_point[0]), round(balance_point[1])))"
   ]
  },
  {
   "cell_type": "markdown",
   "metadata": {},
   "source": [
    "### Cтійкість точки рівноваги"
   ]
  },
  {
   "cell_type": "code",
   "execution_count": 19,
   "metadata": {},
   "outputs": [
    {
     "data": {
      "image/png": "[encoded data removed]",
      "text/latex": [
       "$$E_{d} = - \\frac{347.13}{P^{0.25} \\left(\\frac{1388.52}{P^{0.25}} - 654.2\\right)}$$"
      ],
      "text/plain": [
       "                  -0.25     \n",
       "         -347.13⋅P          \n",
       "E_d = ──────────────────────\n",
       "               -0.25        \n",
       "      1388.52⋅P      - 654.2"
      ]
     },
     "execution_count": 19,
     "metadata": {},
     "output_type": "execute_result"
    }
   ],
   "source": [
    "Q_d.pretty_print_elasticity()"
   ]
  },
  {
   "cell_type": "code",
   "execution_count": 20,
   "metadata": {},
   "outputs": [
    {
     "data": {
      "image/png": "[encoded data removed]",
      "text/latex": [
       "$$E_{s} = \\frac{67.785 P^{0.5}}{135.57 P^{0.5} - 368.61}$$"
      ],
      "text/plain": [
       "                 0.5     \n",
       "         67.785⋅P        \n",
       "Eₛ = ────────────────────\n",
       "             0.5         \n",
       "     135.57⋅P    - 368.61"
      ]
     },
     "execution_count": 20,
     "metadata": {},
     "output_type": "execute_result"
    }
   ],
   "source": [
    "Q_s.pretty_print_elasticity()"
   ]
  },
  {
   "cell_type": "code",
   "execution_count": 21,
   "metadata": {},
   "outputs": [],
   "source": [
    "bal_elasticity = Q_d.elasticity(balance_point[0]), Q_s.elasticity(balance_point[0])"
   ]
  },
  {
   "cell_type": "code",
   "execution_count": 22,
   "metadata": {},
   "outputs": [
    {
     "name": "stdout",
     "output_type": "stream",
     "text": [
      "Еластичність в точці рівноваги:\n",
      "Попиту: -1.963199544466674\n",
      "Пропозиції: 2.4101341916053043\n"
     ]
    }
   ],
   "source": [
    "print(\"Еластичність в точці рівноваги:\\nПопиту: {}\\nПропозиції: {}\".format(bal_elasticity[0], bal_elasticity[1]))"
   ]
  },
  {
   "cell_type": "code",
   "execution_count": 23,
   "metadata": {},
   "outputs": [],
   "source": [
    "is_stable = np.fabs(bal_elasticity[0]) > np.fabs(bal_elasticity[1])"
   ]
  },
  {
   "cell_type": "code",
   "execution_count": 24,
   "metadata": {},
   "outputs": [
    {
     "name": "stdout",
     "output_type": "stream",
     "text": [
      "Точка ринкової рівноваги не стабільна\n"
     ]
    }
   ],
   "source": [
    "print(\"Точка ринкової рівноваги {}стабільна\".format(\"\" if is_stable else \"не \"))"
   ]
  },
  {
   "cell_type": "markdown",
   "metadata": {},
   "source": [
    "# Дугова еластичність"
   ]
  },
  {
   "cell_type": "markdown",
   "metadata": {},
   "source": [
    "### Попит"
   ]
  },
  {
   "cell_type": "code",
   "execution_count": 25,
   "metadata": {},
   "outputs": [
    {
     "data": {
      "image/png": "[encoded data removed]",
      "text/plain": [
       "<matplotlib.figure.Figure at 0x7f1a64200e10>"
      ]
     },
     "metadata": {},
     "output_type": "display_data"
    }
   ],
   "source": [
    "plt.plot(prices[:-1], Q_d.arc_elasticity(prices))\n",
    "plt.show()"
   ]
  },
  {
   "cell_type": "code",
   "execution_count": 26,
   "metadata": {},
   "outputs": [
    {
     "name": "stdout",
     "output_type": "stream",
     "text": [
      "Попит є еластичним\n"
     ]
    }
   ],
   "source": [
    "print(\"Попит {}є еластичним\".format(\"\" if np.all(abs(Q_d.arc_elasticity(prices)) > 1) else \"не \"))"
   ]
  },
  {
   "cell_type": "markdown",
   "metadata": {},
   "source": [
    "### Пропозиція"
   ]
  },
  {
   "cell_type": "code",
   "execution_count": 27,
   "metadata": {},
   "outputs": [
    {
     "data": {
      "image/png": "[encoded data removed]",
      "text/plain": [
       "<matplotlib.figure.Figure at 0x7f1a641709e8>"
      ]
     },
     "metadata": {},
     "output_type": "display_data"
    }
   ],
   "source": [
    "plt.plot(prices[:-1], Q_s.arc_elasticity(prices))\n",
    "plt.show()"
   ]
  },
  {
   "cell_type": "code",
   "execution_count": 28,
   "metadata": {},
   "outputs": [
    {
     "name": "stdout",
     "output_type": "stream",
     "text": [
      "Пропозиція є еластичною\n"
     ]
    }
   ],
   "source": [
    "print(\"Пропозиція {}є еластичною\".format(\"\" if np.all(abs(Q_s.arc_elasticity(prices)) > 1) else \"не \"))"
   ]
  },
  {
   "cell_type": "markdown",
   "metadata": {},
   "source": [
    "# Вплив держави на ціни\n",
    "### Податок та субсидії на одну із сторін (споживач, виробник)"
   ]
  },
  {
   "cell_type": "code",
   "execution_count": 29,
   "metadata": {},
   "outputs": [],
   "source": [
    "bal_tax_dem = bal_tax_sup = bal_tax_dem = bal_tax_sub = (-1, -1)"
   ]
  },
  {
   "cell_type": "code",
   "execution_count": 30,
   "metadata": {},
   "outputs": [],
   "source": [
    "tax_dem = 5\n",
    "tax_sup = 5\n",
    "subsidy_dem = 5\n",
    "subsidy_sup = 5"
   ]
  },
  {
   "cell_type": "code",
   "execution_count": 31,
   "metadata": {},
   "outputs": [],
   "source": [
    "Q_d_tax = lambda p: Q_d(p - tax_dem)\n",
    "Q_d_subsidy = lambda p,: Q_d(p + subsidy_dem)\n",
    "Q_s_tax = lambda p: Q_s(p - tax_sup)\n",
    "Q_s_subsidy = lambda p: Q_s(p + subsidy_sup)"
   ]
  },
  {
   "cell_type": "code",
   "execution_count": 32,
   "metadata": {},
   "outputs": [],
   "source": [
    "bal_tax_dem = intersection(Q_d_tax, Q_s, prices)\n",
    "bal_tax_sup = intersection(Q_d, Q_s_tax, prices)\n",
    "bal_subsidy_dem = intersection(Q_d_subsidy, Q_s, prices)\n",
    "bal_subsidy_sup = intersection(Q_d, Q_s_subsidy, prices)"
   ]
  },
  {
   "cell_type": "code",
   "execution_count": 33,
   "metadata": {},
   "outputs": [],
   "source": [
    "bal_points1 = [bal_tax_dem, bal_subsidy_sup, bal_tax_sup, bal_subsidy_dem]"
   ]
  },
  {
   "cell_type": "code",
   "execution_count": 34,
   "metadata": {},
   "outputs": [
    {
     "data": {
      "image/png": "[encoded data removed]",
      "text/plain": [
       "<matplotlib.figure.Figure at 0x7f1a64338470>"
      ]
     },
     "metadata": {},
     "output_type": "display_data"
    },
    {
     "name": "stdout",
     "output_type": "stream",
     "text": [
      "Точка ринкової рівноваги при податку зі сторони споживача 5. P:14.0, Q:143.0\n",
      "Точка ринкової рівноваги при податку зі сторони виробника 5. P:15.0, Q:54.0\n",
      "Точка ринкової рівноваги при субсидіях зі сторони споживача 5. P:10.0, Q:54.0\n",
      "Точка ринкової рівноваги при субсидіях зі сторони виробника 5. P:9.0, Q:143.0\n"
     ]
    }
   ],
   "source": [
    "plt.plot(Q_d(prices), prices)\n",
    "plt.plot(Q_s(prices), prices)\n",
    "plt.plot(Q_s_tax(prices), prices, '--')\n",
    "plt.plot(Q_s_subsidy(prices), prices, '-.')\n",
    "plt.plot(Q_d_tax(prices), prices, '--')\n",
    "plt.plot(Q_d_subsidy(prices), prices, '-.')\n",
    "plt.plot([p[1] for p in bal_points1], [p[0] for p in bal_points1], 'o')\n",
    "plt.show()\n",
    "print(\"Точка ринкової рівноваги при податку зі сторони споживача {}. P:{}, Q:{}\".format(tax_dem, round(bal_tax_dem[0]), round(bal_tax_dem[1])))\n",
    "print(\"Точка ринкової рівноваги при податку зі сторони виробника {}. P:{}, Q:{}\".format(tax_sup, round(bal_tax_sup[0]), round(bal_tax_sup[1])))\n",
    "print(\"Точка ринкової рівноваги при субсидіях зі сторони споживача {}. P:{}, Q:{}\".format(subsidy_dem, round(bal_subsidy_dem[0]), round(bal_subsidy_dem[1])))\n",
    "print(\"Точка ринкової рівноваги при субсидіях зі сторони виробника {}. P:{}, Q:{}\".format(subsidy_sup, round(bal_subsidy_sup[0]), round(bal_subsidy_sup[1])))"
   ]
  },
  {
   "cell_type": "markdown",
   "metadata": {},
   "source": [
    "### Квота з еквівалентним податком та субсидією"
   ]
  },
  {
   "cell_type": "code",
   "execution_count": 50,
   "metadata": {},
   "outputs": [],
   "source": [
    "eq_tax = 2.5\n",
    "eq_subsidy = 2.5\n",
    "quote = 70"
   ]
  },
  {
   "cell_type": "code",
   "execution_count": 51,
   "metadata": {},
   "outputs": [],
   "source": [
    "def Q_s_quote(P):\n",
    "    Q = Q_s(P)\n",
    "    Q[Q > quote] = quote\n",
    "    return Q"
   ]
  },
  {
   "cell_type": "code",
   "execution_count": 52,
   "metadata": {},
   "outputs": [],
   "source": [
    "Q_d_eq_tax = lambda P: Q_d(P - eq_tax)\n",
    "Q_d_eq_subsidy = lambda P: Q_d(P + eq_subsidy)\n",
    "Q_s_eq_tax_quote = lambda P: Q_s_quote(P - eq_tax)\n",
    "Q_s_eq_subsidy_quote = lambda P: Q_s_quote(P + eq_subsidy)"
   ]
  },
  {
   "cell_type": "code",
   "execution_count": 53,
   "metadata": {},
   "outputs": [],
   "source": [
    "bal_eq_tax = intersection(Q_d_eq_tax, Q_s_eq_tax_quote, prices)\n",
    "bal_eq_subsidy = intersection(Q_d_eq_subsidy, Q_s_eq_subsidy_quote, prices)"
   ]
  },
  {
   "cell_type": "code",
   "execution_count": 54,
   "metadata": {},
   "outputs": [],
   "source": [
    "bal_points2 = [bal_eq_tax, bal_eq_subsidy]"
   ]
  },
  {
   "cell_type": "code",
   "execution_count": 56,
   "metadata": {},
   "outputs": [
    {
     "data": {
      "image/png": "[encoded data removed]",
      "text/plain": [
       "<matplotlib.figure.Figure at 0x7f1a63d1b9b0>"
      ]
     },
     "metadata": {},
     "output_type": "display_data"
    },
    {
     "name": "stdout",
     "output_type": "stream",
     "text": [
      "Точка ринкової рівноваги при квоті 70 та еквівалентному податку 2.5. P:16.0, Q:70.0\n",
      "Точка ринкової рівноваги при квоті 70 та еквівалентних субсидіях 2.5. P:11.0, Q:70.0\n"
     ]
    }
   ],
   "source": [
    "plt.plot(Q_d(prices), prices)\n",
    "plt.plot(Q_s(prices), prices)\n",
    "plt.plot(Q_d_eq_tax(prices), prices, '--')\n",
    "plt.plot(Q_d_eq_subsidy(prices), prices, '-.')\n",
    "plt.plot(Q_s_eq_tax_quote(prices), prices, '--')\n",
    "plt.plot(Q_s_eq_subsidy_quote(prices), prices, '-.')\n",
    "plt.plot([p[1] for p in bal_points2], [p[0] for p in bal_points2], 'o')\n",
    "plt.show()\n",
    "print(\"Точка ринкової рівноваги при квоті {} та еквівалентному податку {}. P:{}, Q:{}\".format(quote, eq_tax, round(bal_eq_tax[0]), round(bal_eq_tax[1])))\n",
    "print(\"Точка ринкової рівноваги при квоті {} та еквівалентних субсидіях {}. P:{}, Q:{}\".format(quote, eq_tax, round(bal_eq_subsidy[0]), round(bal_eq_subsidy[1])))"
   ]
  }
 ],
 "metadata": {
  "kernelspec": {
   "display_name": "Python 3",
   "language": "python",
   "name": "python3"
  },
  "language_info": {
   "codemirror_mode": {
    "name": "ipython",
    "version": 3
   },
   "file_extension": ".py",
   "mimetype": "text/x-python",
   "name": "python",
   "nbconvert_exporter": "python",
   "pygments_lexer": "ipython3",
   "version": "3.6.2"
  }
 },
 "nbformat": 4,
 "nbformat_minor": 2
}
