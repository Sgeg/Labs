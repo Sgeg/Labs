{
 "cells": [
  {
   "cell_type": "code",
   "execution_count": 1,
   "metadata": {
    "collapsed": true
   },
   "outputs": [],
   "source": [
    "import pandas as pd\n",
    "import numpy as np\n",
    "import matplotlib.pyplot as plt\n",
    "from sklearn.linear_model import LinearRegression"
   ]
  },
  {
   "cell_type": "code",
   "execution_count": 2,
   "metadata": {
    "collapsed": true
   },
   "outputs": [],
   "source": [
    "data = pd.read_csv('v14.csv')"
   ]
  },
  {
   "cell_type": "code",
   "execution_count": 3,
   "metadata": {},
   "outputs": [
    {
     "data": {
      "text/html": [
       "<div>\n",
       "<style>\n",
       "    .dataframe thead tr:only-child th {\n",
       "        text-align: right;\n",
       "    }\n",
       "\n",
       "    .dataframe thead th {\n",
       "        text-align: left;\n",
       "    }\n",
       "\n",
       "    .dataframe tbody tr th {\n",
       "        vertical-align: top;\n",
       "    }\n",
       "</style>\n",
       "<table border=\"1\" class=\"dataframe\">\n",
       "  <thead>\n",
       "    <tr style=\"text-align: right;\">\n",
       "      <th></th>\n",
       "      <th>Price</th>\n",
       "      <th>Demand</th>\n",
       "      <th>Supply</th>\n",
       "    </tr>\n",
       "  </thead>\n",
       "  <tbody>\n",
       "    <tr>\n",
       "      <th>0</th>\n",
       "      <td>7.0</td>\n",
       "      <td>183</td>\n",
       "      <td>5</td>\n",
       "    </tr>\n",
       "    <tr>\n",
       "      <th>1</th>\n",
       "      <td>8.5</td>\n",
       "      <td>160</td>\n",
       "      <td>19</td>\n",
       "    </tr>\n",
       "    <tr>\n",
       "      <th>2</th>\n",
       "      <td>9.3</td>\n",
       "      <td>141</td>\n",
       "      <td>41</td>\n",
       "    </tr>\n",
       "    <tr>\n",
       "      <th>3</th>\n",
       "      <td>10.0</td>\n",
       "      <td>135</td>\n",
       "      <td>55</td>\n",
       "    </tr>\n",
       "    <tr>\n",
       "      <th>4</th>\n",
       "      <td>11.0</td>\n",
       "      <td>121</td>\n",
       "      <td>70</td>\n",
       "    </tr>\n",
       "    <tr>\n",
       "      <th>5</th>\n",
       "      <td>12.3</td>\n",
       "      <td>102</td>\n",
       "      <td>93</td>\n",
       "    </tr>\n",
       "    <tr>\n",
       "      <th>6</th>\n",
       "      <td>13.1</td>\n",
       "      <td>80</td>\n",
       "      <td>123</td>\n",
       "    </tr>\n",
       "    <tr>\n",
       "      <th>7</th>\n",
       "      <td>14.0</td>\n",
       "      <td>58</td>\n",
       "      <td>155</td>\n",
       "    </tr>\n",
       "    <tr>\n",
       "      <th>8</th>\n",
       "      <td>15.8</td>\n",
       "      <td>44</td>\n",
       "      <td>174</td>\n",
       "    </tr>\n",
       "    <tr>\n",
       "      <th>9</th>\n",
       "      <td>16.5</td>\n",
       "      <td>21</td>\n",
       "      <td>199</td>\n",
       "    </tr>\n",
       "    <tr>\n",
       "      <th>10</th>\n",
       "      <td>18.0</td>\n",
       "      <td>10</td>\n",
       "      <td>213</td>\n",
       "    </tr>\n",
       "    <tr>\n",
       "      <th>11</th>\n",
       "      <td>20.0</td>\n",
       "      <td>5</td>\n",
       "      <td>220</td>\n",
       "    </tr>\n",
       "  </tbody>\n",
       "</table>\n",
       "</div>"
      ],
      "text/plain": [
       "    Price  Demand  Supply\n",
       "0     7.0     183       5\n",
       "1     8.5     160      19\n",
       "2     9.3     141      41\n",
       "3    10.0     135      55\n",
       "4    11.0     121      70\n",
       "5    12.3     102      93\n",
       "6    13.1      80     123\n",
       "7    14.0      58     155\n",
       "8    15.8      44     174\n",
       "9    16.5      21     199\n",
       "10   18.0      10     213\n",
       "11   20.0       5     220"
      ]
     },
     "execution_count": 3,
     "metadata": {},
     "output_type": "execute_result"
    }
   ],
   "source": [
    "data"
   ]
  },
  {
   "cell_type": "code",
   "execution_count": 4,
   "metadata": {
    "scrolled": true
   },
   "outputs": [
    {
     "data": {
      "image/png": "[encoded data removed]",
      "text/plain": [
       "<matplotlib.figure.Figure at 0x7f829322c518>"
      ]
     },
     "metadata": {},
     "output_type": "display_data"
    }
   ],
   "source": [
    "plt.plot(data['Demand'].values, data['Price'].values, 'o')\n",
    "plt.plot(data['Supply'].values, data['Price'].values, 'o')\n",
    "plt.show()"
   ]
  },
  {
   "cell_type": "code",
   "execution_count": 5,
   "metadata": {
    "collapsed": true
   },
   "outputs": [],
   "source": [
    "# Необхідні константи\n",
    "p_dens = 200\n",
    "data['Const'] = 1\n",
    "min_pr, max_pr = data.iloc[0]['Price'], data.iloc[-1]['Price']\n",
    "prices = np.linspace(min_pr, max_pr, p_dens)"
   ]
  },
  {
   "cell_type": "markdown",
   "metadata": {},
   "source": [
    "## Знаходження аналітичного вигляду функція попиту та пропозиції\n",
    "Функції попиту та пропозиції будемо знаходити у вигляді: \n",
    "\\begin{align}\n",
    "Q=\\alpha f(P)+\\beta\n",
    "\\end{align}\n",
    "де $f$ задовольняє таким властивостям:\n",
    "\\begin{align}\n",
    "\\frac{\\partial f}{\\partial P} &< 0\\ \\ \\ \\ \\frac{\\partial^2 f}{\\partial P^2} >= 0\\ \\ \\ \\ (для\\ функції\\ попиту) \\\\\n",
    "\\frac{\\partial f}{\\partial P} &> 0\\ \\ \\ \\ \\frac{\\partial^2 f}{\\partial P^2} <= 0\\ \\ \\ \\ (для\\ функції\\ пропозиції) \\\\\n",
    "\\end{align}\n",
    "\n",
    "Знайдемо значення $\\alpha$ та $\\beta$ за допомогою лінійної регресії з квадратичною функцією втрат. \\\\\n",
    "Нехай дано вибірку $Q^*$, $P^*$. Тоді потрібно мінімізувати функціонал:\n",
    "\\begin{align}\n",
    "L(P^*,Q^*)=(\\alpha f(P^*)+\\beta - Q^*)^T(\\alpha f(P^*)+\\beta - Q^*)\n",
    "\\end{align}\n",
    "Тоді параметри набувають вигляду:\n",
    "\\begin{align}\n",
    "(\\alpha, \\beta) &= (X^T X)^{-1} X^T Q^*\\ ,де\\\\\n",
    "X &= \\begin{bmatrix}f(P^*_1) & 1\\\\f(P^*_2) & 1\\\\... & ... \\\\ f(P^*_n) & 1\\end{bmatrix}\\ ,де\\ n\\ -\\ кількість\\ елементів\\ у\\ вибірці\n",
    "\\end{align}\n",
    "Модель лінійної регресії реалізований в класі sklearn.linear_model.LinearRegression."
   ]
  },
  {
   "cell_type": "markdown",
   "metadata": {},
   "source": [
    "# Апроксимація попиту"
   ]
  },
  {
   "cell_type": "code",
   "execution_count": 6,
   "metadata": {
    "collapsed": true
   },
   "outputs": [],
   "source": [
    "data['InvPrice'] = 1 / data['Price'].values"
   ]
  },
  {
   "cell_type": "code",
   "execution_count": 7,
   "metadata": {
    "collapsed": true
   },
   "outputs": [
    {
     "data": {
      "text/plain": [
       "LinearRegression(copy_X=True, fit_intercept=True, n_jobs=1, normalize=False)"
      ]
     },
     "execution_count": 7,
     "metadata": {},
     "output_type": "execute_result"
    }
   ],
   "source": [
    "model_demand = LinearRegression()\n",
    "\n",
    "model_demand.fit(data[['InvPrice', 'Const']].values, data['Demand'].values)"
   ]
  },
  {
   "cell_type": "code",
   "execution_count": 8,
   "metadata": {
    "collapsed": true
   },
   "outputs": [],
   "source": [
    "to_pred_dem = np.concatenate([1 / prices.reshape(-1, 1),\n",
    "                          np.ones([p_dens]).reshape(-1, 1)], axis=1)\n",
    "pred_dem = model_demand.predict(to_pred_dem)"
   ]
  },
  {
   "cell_type": "code",
   "execution_count": 9,
   "metadata": {},
   "outputs": [],
   "source": [
    "def Q_d(P):\n",
    "    P = 1 / np.reshape(P, (-1, 1))\n",
    "    to_predict = np.concatenate([P, np.ones(P.shape)], axis=1)\n",
    "    return model_demand.predict(to_predict)"
   ]
  },
  {
   "cell_type": "code",
   "execution_count": 10,
   "metadata": {},
   "outputs": [
    {
     "data": {
      "image/png": "[encoded data removed]",
      "text/plain": [
       "<matplotlib.figure.Figure at 0x7f828b3a0eb8>"
      ]
     },
     "metadata": {},
     "output_type": "display_data"
    }
   ],
   "source": [
    "plt.plot(Q_d(prices), prices)\n",
    "plt.plot(data['Demand'], data['Price'], 'o')\n",
    "plt.show()"
   ]
  },
  {
   "cell_type": "code",
   "execution_count": 11,
   "metadata": {},
   "outputs": [
    {
     "data": {
      "text/plain": [
       "array([ 2108.57405921,     0.        ])"
      ]
     },
     "execution_count": 11,
     "metadata": {},
     "output_type": "execute_result"
    }
   ],
   "source": [
    "model_demand.coef_"
   ]
  },
  {
   "cell_type": "code",
   "execution_count": 12,
   "metadata": {},
   "outputs": [
    {
     "name": "stdout",
     "output_type": "stream",
     "text": [
      "Q = 2108.57/P\n"
     ]
    }
   ],
   "source": [
    "print(\"Q = {}/P\".format(round(model_demand.coef_[0], 2)))"
   ]
  },
  {
   "cell_type": "markdown",
   "metadata": {},
   "source": [
    "# Апроксимація попиту"
   ]
  },
  {
   "cell_type": "code",
   "execution_count": 13,
   "metadata": {
    "collapsed": true
   },
   "outputs": [],
   "source": [
    "data['LogPrice'] = np.log(data['Price'].values)"
   ]
  },
  {
   "cell_type": "code",
   "execution_count": 14,
   "metadata": {
    "collapsed": true
   },
   "outputs": [
    {
     "data": {
      "text/plain": [
       "LinearRegression(copy_X=True, fit_intercept=True, n_jobs=1, normalize=False)"
      ]
     },
     "execution_count": 14,
     "metadata": {},
     "output_type": "execute_result"
    }
   ],
   "source": [
    "model_supply = LinearRegression()\n",
    "\n",
    "model_supply.fit(data[['LogPrice', 'Const']], data['Supply'])"
   ]
  },
  {
   "cell_type": "code",
   "execution_count": 15,
   "metadata": {},
   "outputs": [],
   "source": [
    "def Q_s(P):\n",
    "    P = np.log(np.reshape(P, (-1, 1)))\n",
    "    to_predict = np.concatenate([P, np.ones(P.shape)], axis=1)\n",
    "    return model_supply.predict(to_predict)"
   ]
  },
  {
   "cell_type": "code",
   "execution_count": 16,
   "metadata": {},
   "outputs": [
    {
     "data": {
      "image/png": "[encoded data removed]",
      "text/plain": [
       "<matplotlib.figure.Figure at 0x7f828b332da0>"
      ]
     },
     "metadata": {},
     "output_type": "display_data"
    }
   ],
   "source": [
    "plt.plot(Q_s(prices), prices)\n",
    "plt.plot(data['Supply'], data['Price'], 'o')\n",
    "plt.show()"
   ]
  },
  {
   "cell_type": "code",
   "execution_count": 17,
   "metadata": {},
   "outputs": [
    {
     "data": {
      "text/plain": [
       "array([ 236.45920832,    0.        ])"
      ]
     },
     "execution_count": 17,
     "metadata": {},
     "output_type": "execute_result"
    }
   ],
   "source": [
    "model_supply.coef_"
   ]
  },
  {
   "cell_type": "code",
   "execution_count": 18,
   "metadata": {},
   "outputs": [
    {
     "name": "stdout",
     "output_type": "stream",
     "text": [
      "Q = 236.46*log(P)\n"
     ]
    }
   ],
   "source": [
    "print(\"Q = {}*log(P)\".format(round(model_supply.coef_[0], 2)))"
   ]
  },
  {
   "cell_type": "markdown",
   "metadata": {},
   "source": [
    "# Точка ринкової рівноваги"
   ]
  },
  {
   "cell_type": "code",
   "execution_count": 19,
   "metadata": {
    "collapsed": true
   },
   "outputs": [],
   "source": [
    "def intersection(f1, f2, values):\n",
    "    ind = np.argmin(np.abs(f1(values) - f2(values)))\n",
    "    return (values[ind], ((f1(values[ind]) + f2(values[ind])) / 2)[0])"
   ]
  },
  {
   "cell_type": "code",
   "execution_count": 20,
   "metadata": {
    "collapsed": true
   },
   "outputs": [],
   "source": [
    "balance_point = intersection(Q_d, Q_s, prices)"
   ]
  },
  {
   "cell_type": "code",
   "execution_count": 21,
   "metadata": {},
   "outputs": [
    {
     "data": {
      "image/png": "[encoded data removed]",
      "text/plain": [
       "<matplotlib.figure.Figure at 0x7f828b260ef0>"
      ]
     },
     "metadata": {},
     "output_type": "display_data"
    },
    {
     "name": "stdout",
     "output_type": "stream",
     "text": [
      "Точка ринкової рівноваги. P:11.0, Q:94.0\n"
     ]
    }
   ],
   "source": [
    "plt.plot(Q_d(prices), prices)\n",
    "plt.plot(Q_s(prices), prices)\n",
    "plt.plot(balance_point[1], balance_point[0], 'o')\n",
    "plt.show()\n",
    "print(\"Точка ринкової рівноваги. P:{}, Q:{}\".format(round(balance_point[0]), round(balance_point[1])))"
   ]
  },
  {
   "cell_type": "markdown",
   "metadata": {},
   "source": [
    "# Дугова еластичність"
   ]
  },
  {
   "cell_type": "code",
   "execution_count": 22,
   "metadata": {
    "collapsed": true
   },
   "outputs": [],
   "source": [
    "def arc_elasticity(f, values): # returns len(values) - 1 numbers\n",
    "    v1, v2 = values[:-1], values[1:]\n",
    "    f1, f2 = f(v1), f(v2)\n",
    "    return (f2 - f1) / (v2 - v1) * (v2 + v1) / (f2 + f1)"
   ]
  },
  {
   "cell_type": "markdown",
   "metadata": {},
   "source": [
    "### Попит"
   ]
  },
  {
   "cell_type": "code",
   "execution_count": 23,
   "metadata": {},
   "outputs": [
    {
     "data": {
      "image/png": "[encoded data removed]",
      "text/plain": [
       "<matplotlib.figure.Figure at 0x7f828b2377b8>"
      ]
     },
     "metadata": {},
     "output_type": "display_data"
    }
   ],
   "source": [
    "plt.plot(prices[:-1], arc_elasticity(Q_d, prices))\n",
    "plt.show()"
   ]
  },
  {
   "cell_type": "code",
   "execution_count": 24,
   "metadata": {},
   "outputs": [
    {
     "name": "stdout",
     "output_type": "stream",
     "text": [
      "Попит є абсолютно еластичним\n"
     ]
    }
   ],
   "source": [
    "print(\"Попит {}є абсолютно еластичним\".format(\"\" if np.all(abs(arc_elasticity(Q_d, prices)) > 1) else \"не \"))"
   ]
  },
  {
   "cell_type": "markdown",
   "metadata": {},
   "source": [
    "### Пропозиція"
   ]
  },
  {
   "cell_type": "code",
   "execution_count": 25,
   "metadata": {},
   "outputs": [
    {
     "data": {
      "image/png": "[encoded data removed]",
      "text/plain": [
       "<matplotlib.figure.Figure at 0x7f828b2baac8>"
      ]
     },
     "metadata": {},
     "output_type": "display_data"
    }
   ],
   "source": [
    "plt.plot(prices[:-1], arc_elasticity(Q_s, prices))\n",
    "plt.show()"
   ]
  },
  {
   "cell_type": "code",
   "execution_count": 26,
   "metadata": {},
   "outputs": [
    {
     "name": "stdout",
     "output_type": "stream",
     "text": [
      "Пропозиція є абсолютно еластичною\n"
     ]
    }
   ],
   "source": [
    "print(\"Пропозиція {}є абсолютно еластичною\".format(\"\" if np.all(abs(arc_elasticity(Q_s, prices)) > 1) else \"не \"))"
   ]
  },
  {
   "cell_type": "markdown",
   "metadata": {},
   "source": [
    "# Вплив держави на ціни\n",
    "### Податок та субсидії на одну із сторін (споживач, виробник)"
   ]
  },
  {
   "cell_type": "code",
   "execution_count": 27,
   "metadata": {
    "collapsed": true
   },
   "outputs": [],
   "source": [
    "bal_tax_dem = bal_tax_sup = bal_tax_dem = bal_tax_sub = (-1, -1)"
   ]
  },
  {
   "cell_type": "code",
   "execution_count": 28,
   "metadata": {
    "collapsed": true
   },
   "outputs": [],
   "source": [
    "tax_dem = 5\n",
    "tax_sup = 5\n",
    "subsidy_dem = 5\n",
    "subsidy_sup = 5"
   ]
  },
  {
   "cell_type": "code",
   "execution_count": 29,
   "metadata": {},
   "outputs": [],
   "source": [
    "Q_d_tax = lambda p: Q_d(p + tax_dem)\n",
    "Q_d_subsidy = lambda p,: Q_d(p - subsidy_dem)\n",
    "Q_s_tax = lambda p: Q_s(p + tax_sup)\n",
    "Q_s_subsidy = lambda p: Q_s(p - subsidy_sup)"
   ]
  },
  {
   "cell_type": "code",
   "execution_count": 30,
   "metadata": {},
   "outputs": [],
   "source": [
    "bal_tax_dem = intersection(Q_d_tax, Q_s, prices)\n",
    "bal_tax_sup = intersection(Q_d, Q_s_tax, prices)\n",
    "bal_subsidy_dem = intersection(Q_d_subsidy, Q_s, prices)\n",
    "bal_subsidy_sup = intersection(Q_d, Q_s_subsidy, prices)"
   ]
  },
  {
   "cell_type": "code",
   "execution_count": 31,
   "metadata": {},
   "outputs": [],
   "source": [
    "bal_points1 = [bal_tax_dem, bal_subsidy_sup, bal_tax_sup, bal_subsidy_dem]"
   ]
  },
  {
   "cell_type": "code",
   "execution_count": 32,
   "metadata": {},
   "outputs": [
    {
     "data": {
      "image/png": "[encoded data removed]",
      "text/plain": [
       "<matplotlib.figure.Figure at 0x7f828b38f160>"
      ]
     },
     "metadata": {},
     "output_type": "display_data"
    },
    {
     "name": "stdout",
     "output_type": "stream",
     "text": [
      "Точка ринкової рівноваги при податку зі сторони споживача 5. P:10.0, Q:54.0\n",
      "Точка ринкової рівноваги при податку зі сторони виробника 5. P:9.0, Q:143.0\n",
      "Точка ринкової рівноваги при субсидіях зі сторони споживача 5. P:14.0, Q:144.0\n",
      "Точка ринкової рівноваги при субсидіях зі сторони виробника 5. P:15.0, Q:54.0\n"
     ]
    }
   ],
   "source": [
    "plt.plot(Q_d(prices), prices)\n",
    "plt.plot(Q_s(prices), prices)\n",
    "plt.plot(Q_s_tax(prices), prices, '--')\n",
    "plt.plot(Q_s_subsidy(prices), prices, '-.')\n",
    "plt.plot(Q_d_tax(prices), prices, '--')\n",
    "plt.plot(Q_d_subsidy(prices), prices, '-.')\n",
    "plt.plot([p[1] for p in bal_points1], [p[0] for p in bal_points1], 'o')\n",
    "plt.show()\n",
    "print(\"Точка ринкової рівноваги при податку зі сторони споживача {}. P:{}, Q:{}\".format(tax_dem, round(bal_tax_dem[0]), round(bal_tax_dem[1])))\n",
    "print(\"Точка ринкової рівноваги при податку зі сторони виробника {}. P:{}, Q:{}\".format(tax_sup, round(bal_tax_sup[0]), round(bal_tax_sup[1])))\n",
    "print(\"Точка ринкової рівноваги при субсидіях зі сторони споживача {}. P:{}, Q:{}\".format(subsidy_dem, round(bal_subsidy_dem[0]), round(bal_subsidy_dem[1])))\n",
    "print(\"Точка ринкової рівноваги при субсидіях зі сторони виробника {}. P:{}, Q:{}\".format(subsidy_sup, round(bal_subsidy_sup[0]), round(bal_subsidy_sup[1])))"
   ]
  },
  {
   "cell_type": "markdown",
   "metadata": {},
   "source": [
    "### Еквівалентний податок та субсидії"
   ]
  },
  {
   "cell_type": "code",
   "execution_count": 33,
   "metadata": {},
   "outputs": [],
   "source": [
    "eq_tax = 2.5\n",
    "eq_subsidy = 2.5"
   ]
  },
  {
   "cell_type": "code",
   "execution_count": 34,
   "metadata": {},
   "outputs": [],
   "source": [
    "Q_d_eq_tax = lambda P: Q_d(P + eq_tax)\n",
    "Q_d_eq_subsidy = lambda P: Q_d(P - eq_subsidy)\n",
    "Q_s_eq_tax = lambda P: Q_s(P - eq_tax)\n",
    "Q_s_eq_subsidy = lambda P: Q_s(P - eq_subsidy)"
   ]
  },
  {
   "cell_type": "code",
   "execution_count": 35,
   "metadata": {},
   "outputs": [],
   "source": [
    "bal_eq_tax = intersection(Q_d_eq_tax, Q_s_eq_tax, prices)\n",
    "bal_eq_subsidy = intersection(Q_d_eq_subsidy, Q_s_eq_subsidy, prices)"
   ]
  },
  {
   "cell_type": "code",
   "execution_count": 36,
   "metadata": {},
   "outputs": [],
   "source": [
    "bal_points2 = [bal_eq_tax, bal_eq_subsidy]"
   ]
  },
  {
   "cell_type": "code",
   "execution_count": 37,
   "metadata": {},
   "outputs": [
    {
     "data": {
      "image/png": "[encoded data removed]",
      "text/plain": [
       "<matplotlib.figure.Figure at 0x7f828b26e668>"
      ]
     },
     "metadata": {},
     "output_type": "display_data"
    },
    {
     "name": "stdout",
     "output_type": "stream",
     "text": [
      "Точка ринкової рівноваги при еквівалентному податку 2.5. P:12.0, Q:54.0\n",
      "Точка ринкової рівноваги при еквівалентних субсидіях 2.5. P:14.0, Q:95.0\n"
     ]
    }
   ],
   "source": [
    "plt.plot(Q_d(prices), prices)\n",
    "plt.plot(Q_s(prices), prices)\n",
    "plt.plot(Q_d_eq_tax(prices), prices, '--')\n",
    "plt.plot(Q_d_eq_subsidy(prices), prices, '-.')\n",
    "plt.plot(Q_s_eq_tax(prices), prices, '--')\n",
    "plt.plot(Q_s_eq_subsidy(prices), prices, '-.')\n",
    "plt.plot([p[1] for p in bal_points2], [p[0] for p in bal_points2], 'o')\n",
    "plt.show()\n",
    "print(\"Точка ринкової рівноваги при еквівалентному податку {}. P:{}, Q:{}\".format(eq_tax, round(bal_eq_tax[0]), round(bal_eq_tax[1])))\n",
    "print(\"Точка ринкової рівноваги при еквівалентних субсидіях {}. P:{}, Q:{}\".format(eq_tax, round(bal_eq_subsidy[0]), round(bal_eq_subsidy[1])))"
   ]
  },
  {
   "cell_type": "markdown",
   "metadata": {},
   "source": [
    "### Квота"
   ]
  },
  {
   "cell_type": "code",
   "execution_count": 38,
   "metadata": {},
   "outputs": [],
   "source": [
    "quote = 70"
   ]
  },
  {
   "cell_type": "code",
   "execution_count": 39,
   "metadata": {},
   "outputs": [],
   "source": [
    "def Q_s_quote(P):\n",
    "    Q = Q_s(P)\n",
    "    Q[Q > quote] = quote\n",
    "    return Q"
   ]
  },
  {
   "cell_type": "code",
   "execution_count": 40,
   "metadata": {},
   "outputs": [],
   "source": [
    "bal_quote = intersection(Q_d, Q_s_quote, prices)"
   ]
  },
  {
   "cell_type": "code",
   "execution_count": 41,
   "metadata": {},
   "outputs": [
    {
     "data": {
      "image/png": "[encoded data removed]",
      "text/plain": [
       "<matplotlib.figure.Figure at 0x7f828b29b240>"
      ]
     },
     "metadata": {},
     "output_type": "display_data"
    },
    {
     "name": "stdout",
     "output_type": "stream",
     "text": [
      "Точка ринкової рівноваги при квоті 70. P:13.1, Q:70.0\n"
     ]
    }
   ],
   "source": [
    "plt.plot(Q_d(prices), prices)\n",
    "plt.plot(Q_s(prices), prices)\n",
    "plt.plot(Q_s_quote(prices), prices, '--')\n",
    "plt.plot(bal_quote[1], bal_quote[0], 'o')\n",
    "plt.show()\n",
    "print(\"Точка ринкової рівноваги при квоті {}. P:{}, Q:{}\".format(quote, round(bal_quote[0], 1), round(bal_quote[1], 1)))"
   ]
  }
 ],
 "metadata": {
  "kernelspec": {
   "display_name": "Python 3",
   "language": "python",
   "name": "python3"
  },
  "language_info": {
   "codemirror_mode": {
    "name": "ipython",
    "version": 3
   },
   "file_extension": ".py",
   "mimetype": "text/x-python",
   "name": "python",
   "nbconvert_exporter": "python",
   "pygments_lexer": "ipython3",
   "version": "3.6.2"
  }
 },
 "nbformat": 4,
 "nbformat_minor": 2
}
